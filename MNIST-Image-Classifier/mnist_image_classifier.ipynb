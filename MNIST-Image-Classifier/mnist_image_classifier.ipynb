{
 "cells": [
  {
   "cell_type": "code",
   "execution_count": 1,
   "id": "e1cbb0ec",
   "metadata": {},
   "outputs": [],
   "source": [
    "# importing packages\n",
    "from keras.datasets import mnist\n",
    "from matplotlib import pyplot as plt\n",
    "from keras.utils import to_categorical\n",
    "from keras.models import Sequential\n",
    "from keras import layers\n",
    "import numpy as np\n",
    "from sklearn.metrics import  ConfusionMatrixDisplay, confusion_matrix"
   ]
  },
  {
   "cell_type": "code",
   "execution_count": 2,
   "id": "988b0058",
   "metadata": {},
   "outputs": [],
   "source": [
    "# load MNIST into train and test data\n",
    "(X_train, y_train), (X_test, y_test) = mnist.load_data()\n",
    "\n",
    "# for confusion matrix\n",
    "y_begin = y_test"
   ]
  },
  {
   "cell_type": "code",
   "execution_count": 3,
   "id": "07df6064",
   "metadata": {},
   "outputs": [
    {
     "data": {
      "image/png": "[encoded data removed]",
      "text/plain": [
       "<Figure size 640x480 with 1 Axes>"
      ]
     },
     "metadata": {},
     "output_type": "display_data"
    },
    {
     "data": {
      "image/png": "[encoded data removed]",
      "text/plain": [
       "<Figure size 640x480 with 1 Axes>"
      ]
     },
     "metadata": {},
     "output_type": "display_data"
    },
    {
     "data": {
      "image/png": "[encoded data removed]",
      "text/plain": [
       "<Figure size 640x480 with 1 Axes>"
      ]
     },
     "metadata": {},
     "output_type": "display_data"
    },
    {
     "data": {
      "image/png": "[encoded data removed]",
      "text/plain": [
       "<Figure size 640x480 with 1 Axes>"
      ]
     },
     "metadata": {},
     "output_type": "display_data"
    },
    {
     "data": {
      "image/png": "[encoded data removed]",
      "text/plain": [
       "<Figure size 640x480 with 1 Axes>"
      ]
     },
     "metadata": {},
     "output_type": "display_data"
    },
    {
     "name": "stdout",
     "output_type": "stream",
     "text": [
      "Train: X=(60000, 28, 28), y=(60000,)\n",
      "Test: X=(10000, 28, 28), y=(10000,)\n"
     ]
    }
   ],
   "source": [
    "for i in range(5):  \n",
    "    plt.subplot(350 + 1 + i)\n",
    "# show image    \n",
    "    plt.imshow(X_train[i], cmap=plt.get_cmap('gray'))\n",
    "    plt.axis(\"off\")\n",
    "    plt.show()\n",
    "\n",
    "print('Train: X=%s, y=%s' % (X_train.shape, y_train.shape))\n",
    "print('Test: X=%s, y=%s' % (X_test.shape, y_test.shape))    "
   ]
  },
  {
   "cell_type": "code",
   "execution_count": 4,
   "id": "504f1c28",
   "metadata": {},
   "outputs": [],
   "source": [
    "# Normalize data for the model\n",
    "\n",
    "X_train = X_train.reshape((X_train.shape[0], 28, 28, 1))\n",
    "X_test = X_test.reshape((X_test.shape[0], 28, 28, 1))\n",
    "\n",
    "X_train = X_train.astype('float32')\n",
    "X_test = X_test.astype('float32')\n",
    "X_train /= 255.0\n",
    "X_test /= 255.0\n",
    "\n",
    "# Make sure images have shape (28, 28, 1)\n",
    "X_train = np.expand_dims(X_train, -1)\n",
    "X_test = np.expand_dims(X_test, -1)\n",
    "\n",
    "# one hot encode target values\n",
    "y_train = to_categorical(y_train)\n",
    "y_test = to_categorical(y_test)\n"
   ]
  },
  {
   "cell_type": "code",
   "execution_count": 7,
   "id": "026c5441",
   "metadata": {},
   "outputs": [
    {
     "name": "stdout",
     "output_type": "stream",
     "text": [
      "Epoch 1/10\n",
      "480/480 [==============================] - 9s 19ms/step - loss: 0.3470 - accuracy: 0.8952\n",
      "Epoch 2/10\n",
      "480/480 [==============================] - 9s 19ms/step - loss: 0.1034 - accuracy: 0.9686\n",
      "Epoch 3/10\n",
      "480/480 [==============================] - 10s 20ms/step - loss: 0.0782 - accuracy: 0.9761\n",
      "Epoch 4/10\n",
      "480/480 [==============================] - 10s 20ms/step - loss: 0.0650 - accuracy: 0.9804\n",
      "Epoch 5/10\n",
      "480/480 [==============================] - 10s 21ms/step - loss: 0.0577 - accuracy: 0.9818\n",
      "Epoch 6/10\n",
      "480/480 [==============================] - 10s 21ms/step - loss: 0.0503 - accuracy: 0.9844\n",
      "Epoch 7/10\n",
      "480/480 [==============================] - 10s 22ms/step - loss: 0.0493 - accuracy: 0.9847\n",
      "Epoch 8/10\n",
      "480/480 [==============================] - 10s 21ms/step - loss: 0.0441 - accuracy: 0.9861\n",
      "Epoch 9/10\n",
      "480/480 [==============================] - 10s 21ms/step - loss: 0.0402 - accuracy: 0.9875\n",
      "Epoch 10/10\n",
      "480/480 [==============================] - 11s 22ms/step - loss: 0.0384 - accuracy: 0.9874\n"
     ]
    },
    {
     "data": {
      "text/plain": [
       "<keras.src.callbacks.History at 0x1e0629299a0>"
      ]
     },
     "execution_count": 7,
     "metadata": {},
     "output_type": "execute_result"
    }
   ],
   "source": [
    "num_classes= 10\n",
    "# create the model\n",
    "cnn_model = Sequential(\n",
    "    [\n",
    "        layers.Input(shape=(28, 28, 1)),\n",
    "        layers.Conv2D(32, kernel_size=(3, 3), activation=\"relu\"),\n",
    "        layers.MaxPooling2D(pool_size=(2, 2)),\n",
    "        layers.Conv2D(64, kernel_size=(3, 3), activation=\"relu\"),\n",
    "        layers.MaxPooling2D(pool_size=(2, 2)),\n",
    "        layers.Flatten(),\n",
    "        layers.Dropout(0.5),\n",
    "        layers.Dense(num_classes, activation=\"softmax\"),\n",
    "    ]\n",
    ")\n",
    "\n",
    "# compile the model\n",
    "cnn_model.compile(loss=\"categorical_crossentropy\", optimizer=\"adam\", metrics=[\"accuracy\"])\n",
    "\n",
    "# train the model\n",
    "cnn_model.fit(X_train, y_train, batch_size=125, epochs=10)"
   ]
  },
  {
   "cell_type": "code",
   "execution_count": 8,
   "id": "e60079b0",
   "metadata": {},
   "outputs": [
    {
     "name": "stdout",
     "output_type": "stream",
     "text": [
      "Test accuracy: 0.9914000034332275\n"
     ]
    }
   ],
   "source": [
    "print(\"Test accuracy:\",  cnn_model.evaluate(X_test, y_test, verbose=0)[1])"
   ]
  },
  {
   "cell_type": "code",
   "execution_count": 9,
   "id": "e8473bdb",
   "metadata": {},
   "outputs": [
    {
     "name": "stdout",
     "output_type": "stream",
     "text": [
      "313/313 [==============================] - 1s 2ms/step\n"
     ]
    }
   ],
   "source": [
    "y_predict=cnn_model.predict(X_test)"
   ]
  },
  {
   "cell_type": "code",
   "execution_count": 13,
   "id": "1e6b5157-71f3-4733-8dd2-cbfefba38cda",
   "metadata": {},
   "outputs": [
    {
     "data": {
      "text/plain": [
       "array([[1.8915891e-09, 1.4940395e-10, 3.1779878e-06, ..., 9.9999547e-01,\n",
       "        1.6754020e-08, 3.0092528e-07],\n",
       "       [8.6309205e-07, 4.4670746e-06, 9.9999356e-01, ..., 8.4333885e-13,\n",
       "        1.0861644e-07, 5.1631707e-12],\n",
       "       [2.4907519e-07, 9.9970633e-01, 1.8840454e-05, ..., 9.9764904e-05,\n",
       "        4.1815045e-05, 2.6804269e-06],\n",
       "       ...,\n",
       "       [1.3510457e-11, 1.5028052e-08, 1.4030692e-10, ..., 2.9871501e-07,\n",
       "        2.4432281e-06, 7.7373562e-07],\n",
       "       [1.2645495e-07, 1.2664398e-12, 1.3583620e-09, ..., 5.2266115e-11,\n",
       "        6.1009097e-05, 5.8434488e-09],\n",
       "       [4.8305637e-08, 8.5563492e-12, 6.5639591e-07, ..., 2.1307459e-12,\n",
       "        1.2026484e-06, 3.0696412e-10]], dtype=float32)"
      ]
     },
     "execution_count": 13,
     "metadata": {},
     "output_type": "execute_result"
    }
   ],
   "source": [
    "y_predict"
   ]
  },
  {
   "cell_type": "code",
   "execution_count": 10,
   "id": "deae41f9",
   "metadata": {},
   "outputs": [],
   "source": [
    "#Convert prediction probabilities into integers\n",
    "test_predictions = y_predict.argmax(axis=1)"
   ]
  },
  {
   "cell_type": "code",
   "execution_count": 14,
   "id": "ed2b4a4a-baea-4171-ba10-69499c2162cd",
   "metadata": {},
   "outputs": [
    {
     "data": {
      "text/plain": [
       "array([7, 2, 1, ..., 4, 5, 6], dtype=int64)"
      ]
     },
     "execution_count": 14,
     "metadata": {},
     "output_type": "execute_result"
    }
   ],
   "source": [
    "test_predictions"
   ]
  },
  {
   "cell_type": "code",
   "execution_count": 11,
   "id": "b8c5a162",
   "metadata": {},
   "outputs": [],
   "source": [
    "# get confusion matrix array\n",
    "cm = confusion_matrix(test_predictions,y_begin)"
   ]
  },
  {
   "cell_type": "code",
   "execution_count": 12,
   "id": "7db11b34",
   "metadata": {},
   "outputs": [
    {
     "data": {
      "image/png": "[encoded data removed]",
      "text/plain": [
       "<Figure size 1000x1000 with 2 Axes>"
      ]
     },
     "metadata": {},
     "output_type": "display_data"
    }
   ],
   "source": [
    "#Plot\n",
    "disp=ConfusionMatrixDisplay(confusion_matrix=cm)\n",
    "fig, ax = plt.subplots(figsize=(10,10))\n",
    "disp.plot(ax=ax);"
   ]
  },
  {
   "cell_type": "code",
   "execution_count": null,
   "id": "eeda41fa",
   "metadata": {},
   "outputs": [],
   "source": []
  },
  {
   "cell_type": "markdown",
   "id": "885b9fa2",
   "metadata": {},
   "source": [
    "**Summary:**\n",
    "\n",
    "> The accuracy score measures the number of correct predictions made by a model with the total number of predictions made. The higher the accuracy score, the better. The above model's accuracy is 99.1, which is very good. The confusion matrix supports the same."
   ]
  },
  {
   "cell_type": "code",
   "execution_count": null,
   "id": "79e0f925",
   "metadata": {},
   "outputs": [],
   "source": []
  }
 ],
 "metadata": {
  "kernelspec": {
   "display_name": "Python 3 (ipykernel)",
   "language": "python",
   "name": "python3"
  },
  "language_info": {
   "codemirror_mode": {
    "name": "ipython",
    "version": 3
   },
   "file_extension": ".py",
   "mimetype": "text/x-python",
   "name": "python",
   "nbconvert_exporter": "python",
   "pygments_lexer": "ipython3",
   "version": "3.8.2"
  }
 },
 "nbformat": 4,
 "nbformat_minor": 5
}
