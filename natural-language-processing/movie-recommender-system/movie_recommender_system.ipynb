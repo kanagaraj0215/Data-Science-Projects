{
 "cells": [
  {
   "cell_type": "code",
   "execution_count": 12,
   "id": "e1cbb0ec",
   "metadata": {},
   "outputs": [],
   "source": [
    "# importing packages\n",
    "import pandas as pd\n",
    "import numpy as np\n",
    "import matplotlib.pyplot as plt\n",
    "import seaborn as sns\n",
    "import re\n",
    "from sklearn.feature_extraction.text import TfidfVectorizer\n",
    "from sklearn.metrics.pairwise import linear_kernel\n",
    "import warnings\n",
    "warnings.filterwarnings(\"ignore\")\n",
    "pd.options.mode.chained_assignment = None "
   ]
  },
  {
   "cell_type": "markdown",
   "id": "448ff741-03d0-463e-b924-c2c31b297011",
   "metadata": {},
   "source": [
    "**Recommender System:**\n",
    "> The goal of the recommender system is to generate meaningful recommendations to a collection of users for items or products that might interest them. There are five recommender system types: content-based filtering, collaborative filtering, hybrid models, most popular items, and association and market basket analysis. I will use a content-based filtering method to provide user movie recommendations in this project. "
   ]
  },
  {
   "cell_type": "code",
   "execution_count": 13,
   "id": "1d3064c3-e78b-435e-907d-e35cab96ef07",
   "metadata": {},
   "outputs": [
    {
     "name": "stdout",
     "output_type": "stream",
     "text": [
      "Movies_dataset= Rows: 9742 and columns: 3\n",
      "Ratings_dataset= Rows: 100836 and columns: 4\n",
      "links_dataset= Rows: 9742 and columns: 3\n",
      "tags_dataset= Rows: 3683 and columns: 4\n",
      "\n",
      "Movies:\n"
     ]
    },
    {
     "data": {
      "text/html": [
       "<div>\n",
       "<style scoped>\n",
       "    .dataframe tbody tr th:only-of-type {\n",
       "        vertical-align: middle;\n",
       "    }\n",
       "\n",
       "    .dataframe tbody tr th {\n",
       "        vertical-align: top;\n",
       "    }\n",
       "\n",
       "    .dataframe thead th {\n",
       "        text-align: right;\n",
       "    }\n",
       "</style>\n",
       "<table border=\"1\" class=\"dataframe\">\n",
       "  <thead>\n",
       "    <tr style=\"text-align: right;\">\n",
       "      <th></th>\n",
       "      <th>movieId</th>\n",
       "      <th>title</th>\n",
       "      <th>genres</th>\n",
       "    </tr>\n",
       "  </thead>\n",
       "  <tbody>\n",
       "    <tr>\n",
       "      <th>0</th>\n",
       "      <td>1</td>\n",
       "      <td>Toy Story (1995)</td>\n",
       "      <td>Adventure|Animation|Children|Comedy|Fantasy</td>\n",
       "    </tr>\n",
       "    <tr>\n",
       "      <th>1</th>\n",
       "      <td>2</td>\n",
       "      <td>Jumanji (1995)</td>\n",
       "      <td>Adventure|Children|Fantasy</td>\n",
       "    </tr>\n",
       "    <tr>\n",
       "      <th>2</th>\n",
       "      <td>3</td>\n",
       "      <td>Grumpier Old Men (1995)</td>\n",
       "      <td>Comedy|Romance</td>\n",
       "    </tr>\n",
       "  </tbody>\n",
       "</table>\n",
       "</div>"
      ],
      "text/plain": [
       "   movieId                    title  \\\n",
       "0        1         Toy Story (1995)   \n",
       "1        2           Jumanji (1995)   \n",
       "2        3  Grumpier Old Men (1995)   \n",
       "\n",
       "                                        genres  \n",
       "0  Adventure|Animation|Children|Comedy|Fantasy  \n",
       "1                   Adventure|Children|Fantasy  \n",
       "2                               Comedy|Romance  "
      ]
     },
     "metadata": {},
     "output_type": "display_data"
    },
    {
     "name": "stdout",
     "output_type": "stream",
     "text": [
      "\n",
      "Ratings:\n"
     ]
    },
    {
     "data": {
      "text/html": [
       "<div>\n",
       "<style scoped>\n",
       "    .dataframe tbody tr th:only-of-type {\n",
       "        vertical-align: middle;\n",
       "    }\n",
       "\n",
       "    .dataframe tbody tr th {\n",
       "        vertical-align: top;\n",
       "    }\n",
       "\n",
       "    .dataframe thead th {\n",
       "        text-align: right;\n",
       "    }\n",
       "</style>\n",
       "<table border=\"1\" class=\"dataframe\">\n",
       "  <thead>\n",
       "    <tr style=\"text-align: right;\">\n",
       "      <th></th>\n",
       "      <th>userId</th>\n",
       "      <th>movieId</th>\n",
       "      <th>rating</th>\n",
       "      <th>timestamp</th>\n",
       "    </tr>\n",
       "  </thead>\n",
       "  <tbody>\n",
       "    <tr>\n",
       "      <th>0</th>\n",
       "      <td>1</td>\n",
       "      <td>1</td>\n",
       "      <td>4.0</td>\n",
       "      <td>964982703</td>\n",
       "    </tr>\n",
       "    <tr>\n",
       "      <th>1</th>\n",
       "      <td>1</td>\n",
       "      <td>3</td>\n",
       "      <td>4.0</td>\n",
       "      <td>964981247</td>\n",
       "    </tr>\n",
       "    <tr>\n",
       "      <th>2</th>\n",
       "      <td>1</td>\n",
       "      <td>6</td>\n",
       "      <td>4.0</td>\n",
       "      <td>964982224</td>\n",
       "    </tr>\n",
       "  </tbody>\n",
       "</table>\n",
       "</div>"
      ],
      "text/plain": [
       "   userId  movieId  rating  timestamp\n",
       "0       1        1     4.0  964982703\n",
       "1       1        3     4.0  964981247\n",
       "2       1        6     4.0  964982224"
      ]
     },
     "metadata": {},
     "output_type": "display_data"
    },
    {
     "name": "stdout",
     "output_type": "stream",
     "text": [
      "\n",
      "Links:\n"
     ]
    },
    {
     "data": {
      "text/html": [
       "<div>\n",
       "<style scoped>\n",
       "    .dataframe tbody tr th:only-of-type {\n",
       "        vertical-align: middle;\n",
       "    }\n",
       "\n",
       "    .dataframe tbody tr th {\n",
       "        vertical-align: top;\n",
       "    }\n",
       "\n",
       "    .dataframe thead th {\n",
       "        text-align: right;\n",
       "    }\n",
       "</style>\n",
       "<table border=\"1\" class=\"dataframe\">\n",
       "  <thead>\n",
       "    <tr style=\"text-align: right;\">\n",
       "      <th></th>\n",
       "      <th>movieId</th>\n",
       "      <th>imdbId</th>\n",
       "      <th>tmdbId</th>\n",
       "    </tr>\n",
       "  </thead>\n",
       "  <tbody>\n",
       "    <tr>\n",
       "      <th>0</th>\n",
       "      <td>1</td>\n",
       "      <td>114709</td>\n",
       "      <td>862.0</td>\n",
       "    </tr>\n",
       "    <tr>\n",
       "      <th>1</th>\n",
       "      <td>2</td>\n",
       "      <td>113497</td>\n",
       "      <td>8844.0</td>\n",
       "    </tr>\n",
       "    <tr>\n",
       "      <th>2</th>\n",
       "      <td>3</td>\n",
       "      <td>113228</td>\n",
       "      <td>15602.0</td>\n",
       "    </tr>\n",
       "  </tbody>\n",
       "</table>\n",
       "</div>"
      ],
      "text/plain": [
       "   movieId  imdbId   tmdbId\n",
       "0        1  114709    862.0\n",
       "1        2  113497   8844.0\n",
       "2        3  113228  15602.0"
      ]
     },
     "metadata": {},
     "output_type": "display_data"
    },
    {
     "name": "stdout",
     "output_type": "stream",
     "text": [
      "\n",
      "Tags:\n"
     ]
    },
    {
     "data": {
      "text/html": [
       "<div>\n",
       "<style scoped>\n",
       "    .dataframe tbody tr th:only-of-type {\n",
       "        vertical-align: middle;\n",
       "    }\n",
       "\n",
       "    .dataframe tbody tr th {\n",
       "        vertical-align: top;\n",
       "    }\n",
       "\n",
       "    .dataframe thead th {\n",
       "        text-align: right;\n",
       "    }\n",
       "</style>\n",
       "<table border=\"1\" class=\"dataframe\">\n",
       "  <thead>\n",
       "    <tr style=\"text-align: right;\">\n",
       "      <th></th>\n",
       "      <th>userId</th>\n",
       "      <th>movieId</th>\n",
       "      <th>tag</th>\n",
       "      <th>timestamp</th>\n",
       "    </tr>\n",
       "  </thead>\n",
       "  <tbody>\n",
       "    <tr>\n",
       "      <th>0</th>\n",
       "      <td>2</td>\n",
       "      <td>60756</td>\n",
       "      <td>funny</td>\n",
       "      <td>1445714994</td>\n",
       "    </tr>\n",
       "    <tr>\n",
       "      <th>1</th>\n",
       "      <td>2</td>\n",
       "      <td>60756</td>\n",
       "      <td>Highly quotable</td>\n",
       "      <td>1445714996</td>\n",
       "    </tr>\n",
       "    <tr>\n",
       "      <th>2</th>\n",
       "      <td>2</td>\n",
       "      <td>60756</td>\n",
       "      <td>will ferrell</td>\n",
       "      <td>1445714992</td>\n",
       "    </tr>\n",
       "  </tbody>\n",
       "</table>\n",
       "</div>"
      ],
      "text/plain": [
       "   userId  movieId              tag   timestamp\n",
       "0       2    60756            funny  1445714994\n",
       "1       2    60756  Highly quotable  1445714996\n",
       "2       2    60756     will ferrell  1445714992"
      ]
     },
     "metadata": {},
     "output_type": "display_data"
    }
   ],
   "source": [
    "# loading movies dataset into dataframe\n",
    "movies_df = pd.read_csv('movies.csv')\n",
    "\n",
    "# loading ratings dataset into dataframe\n",
    "ratings_df = pd.read_csv('ratings.csv')\n",
    "\n",
    "# loading links dataset into dataframe\n",
    "links_df = pd.read_csv('links.csv')\n",
    "\n",
    "# loading links dataset into dataframe\n",
    "tags_df = pd.read_csv('tags.csv')\n",
    "\n",
    "# pring the shape of the dataframes\n",
    "\n",
    "print(f\"Movies_dataset= Rows: {movies_df.shape[0]} and columns: {movies_df.shape[1]}\")\n",
    "\n",
    "print(f\"Ratings_dataset= Rows: {ratings_df.shape[0]} and columns: {ratings_df.shape[1]}\")\n",
    "\n",
    "print(f\"links_dataset= Rows: {links_df.shape[0]} and columns: {links_df.shape[1]}\")\n",
    "\n",
    "print(f\"tags_dataset= Rows: {tags_df.shape[0]} and columns: {tags_df.shape[1]}\")\n",
    "\n",
    "# display first few rows\n",
    "print(\"\\nMovies:\")\n",
    "display(movies_df.head(3))\n",
    "print(\"\\nRatings:\")\n",
    "display(ratings_df.head(3))\n",
    "print(\"\\nLinks:\")\n",
    "display(links_df.head(3))\n",
    "print(\"\\nTags:\")\n",
    "display(tags_df.head(3))"
   ]
  },
  {
   "cell_type": "markdown",
   "id": "9fbabe2b-e466-4750-9b86-a4ab5fe2d7fa",
   "metadata": {},
   "source": [
    "**Comments:**\n",
    "> The above dataset shows genres, ratings, or tags are a good feature for content-based filtering methods. In this project, I use the genre feature to display the movie recommendation. I will be using only the movie_df for this project."
   ]
  },
  {
   "cell_type": "markdown",
   "id": "07cb3d9f-6948-4252-acdf-bbb4e4095796",
   "metadata": {},
   "source": [
    "**Data Preparation:**"
   ]
  },
  {
   "cell_type": "code",
   "execution_count": 14,
   "id": "de9fe8ff-2ec9-4740-8e11-3e92329eb0b0",
   "metadata": {},
   "outputs": [
    {
     "data": {
      "text/html": [
       "<div>\n",
       "<style scoped>\n",
       "    .dataframe tbody tr th:only-of-type {\n",
       "        vertical-align: middle;\n",
       "    }\n",
       "\n",
       "    .dataframe tbody tr th {\n",
       "        vertical-align: top;\n",
       "    }\n",
       "\n",
       "    .dataframe thead th {\n",
       "        text-align: right;\n",
       "    }\n",
       "</style>\n",
       "<table border=\"1\" class=\"dataframe\">\n",
       "  <thead>\n",
       "    <tr style=\"text-align: right;\">\n",
       "      <th></th>\n",
       "      <th>cleaned_title</th>\n",
       "      <th>year</th>\n",
       "    </tr>\n",
       "  </thead>\n",
       "  <tbody>\n",
       "    <tr>\n",
       "      <th>0</th>\n",
       "      <td>Toy Story</td>\n",
       "      <td>1995</td>\n",
       "    </tr>\n",
       "    <tr>\n",
       "      <th>1</th>\n",
       "      <td>Jumanji</td>\n",
       "      <td>1995</td>\n",
       "    </tr>\n",
       "    <tr>\n",
       "      <th>2</th>\n",
       "      <td>Grumpier Old Men</td>\n",
       "      <td>1995</td>\n",
       "    </tr>\n",
       "  </tbody>\n",
       "</table>\n",
       "</div>"
      ],
      "text/plain": [
       "      cleaned_title  year\n",
       "0         Toy Story  1995\n",
       "1           Jumanji  1995\n",
       "2  Grumpier Old Men  1995"
      ]
     },
     "metadata": {},
     "output_type": "display_data"
    }
   ],
   "source": [
    "# creating function to clean the movie title\n",
    "def clean_movie_title(title):\n",
    "    return re.sub('\\(.*?\\)',\"\",title).strip()\n",
    "\n",
    "def get_movie_year(title):\n",
    "     return  title[title.find(\"(\")+1:title.find(\")\")]\n",
    "\n",
    "# applying the functions to extract new features\n",
    "movies_df['cleaned_title'] = movies_df['title'].apply(clean_movie_title)\n",
    "movies_df['year'] = movies_df['title'].apply(get_movie_year)\n",
    "\n",
    "#  display few records of cleaned movie title and year\n",
    "display( movies_df[['cleaned_title','year']].head(3))\n",
    "\n",
    "# convert year to numeric. if any non numeric value found fill with 0\n",
    "movies_df['year'] = pd.to_numeric(movies_df['year'], errors='coerce')\\\n",
    ".fillna(0).astype(np.int64)"
   ]
  },
  {
   "cell_type": "markdown",
   "id": "61264c9a-a7e0-4936-b571-2bd04ac50273",
   "metadata": {},
   "source": [
    "**Comments:**\n",
    "> The movie title has a year in it. It will be inconvenient for users to search for movies with years in the data. Hence, I removed the year from the title so users can get recommendations just by passing the title. I also created new columns for the year and converted them to numbers."
   ]
  },
  {
   "cell_type": "code",
   "execution_count": 15,
   "id": "74eba81e-dad3-450e-80a3-2bbdec4fca25",
   "metadata": {},
   "outputs": [
    {
     "data": {
      "text/plain": [
       "0    Adventure Animation Children Comedy Fantasy\n",
       "1                     Adventure Children Fantasy\n",
       "2                                 Comedy Romance\n",
       "3                           Comedy Drama Romance\n",
       "4                                         Comedy\n",
       "Name: cleaned_genres, dtype: object"
      ]
     },
     "execution_count": 15,
     "metadata": {},
     "output_type": "execute_result"
    }
   ],
   "source": [
    "movies_df = movies_df[movies_df['genres']!='(no genres listed)']\n",
    "\n",
    "# creating function to clean the genre title\n",
    "def clean_movie_genre(genre):\n",
    "    return ' '.join(map(str,genre.split('|')))\n",
    "\n",
    "# applying the function\n",
    "movies_df['cleaned_genres'] = movies_df['genres'].apply(clean_movie_genre).fillna(\"\")\n",
    "\n",
    "# display few records of cleaned genre of each movie\n",
    "movies_df['cleaned_genres'].head()\n"
   ]
  },
  {
   "cell_type": "markdown",
   "id": "e90e8183-e3a5-4e03-a448-83ba194a91fc",
   "metadata": {},
   "source": [
    "**Comments:**\n",
    "> There are 34  movies recorded as  '(no genres listed)' genre. These are not useful for the recommendation systems. I dropped these records. The genre is pipe-delimited. I use genre to create a movie recommendation system. It is essential to clean the genre. I cleaned the genre and converted it to string."
   ]
  },
  {
   "cell_type": "markdown",
   "id": "16afce2e-9d39-4c4e-ba85-f5c5c00274ba",
   "metadata": {},
   "source": [
    "**Exploratory Data Analysis:**"
   ]
  },
  {
   "cell_type": "code",
   "execution_count": 16,
   "id": "55fa8eed-6a29-4c31-a4d5-6160bde15d9a",
   "metadata": {},
   "outputs": [
    {
     "data": {
      "image/png": "[encoded data removed]",
      "text/plain": [
       "<Figure size 1200x1000 with 1 Axes>"
      ]
     },
     "metadata": {},
     "output_type": "display_data"
    }
   ],
   "source": [
    "# find the genre term frequency\n",
    "term_frequency = movies_df['genres'].str.split('|',expand=True).stack().value_counts()\n",
    "# Setting the figure size\n",
    "plt.figure(figsize=(12, 10)) \n",
    "# plot bar plot\n",
    "ax = sns.barplot(y=term_frequency.index, x= term_frequency.values)\n",
    "\n",
    "# set the titles and labesl\n",
    "ax.set_ylabel('Genre')    \n",
    "ax.set_xlabel('Number of Movies')\n",
    "plt.title('Genre vs Number of Movies')\n",
    "ax.bar_label(ax.containers[0] )\n",
    "\n",
    "# show the plot \n",
    "plt.show()"
   ]
  },
  {
   "cell_type": "markdown",
   "id": "484db8cf-922c-4c93-b54b-7047afadc574",
   "metadata": {},
   "source": [
    "**Comments:**\n",
    "> The above bar chart shows that  Drama, comedy, thriller, action, and romance are the top 5 genres. The bottom five are film-noir, IMAX, western, musical, and war."
   ]
  },
  {
   "cell_type": "code",
   "execution_count": 17,
   "id": "915b9ca6-a230-4a64-bd51-3c753cc84ae5",
   "metadata": {},
   "outputs": [
    {
     "data": {
      "image/png": "[encoded data removed]",
      "text/plain": [
       "<Figure size 1000x700 with 1 Axes>"
      ]
     },
     "metadata": {},
     "output_type": "display_data"
    }
   ],
   "source": [
    "# Plotting the histogram for movie release years\n",
    "plt.figure(figsize=(10, 7))\n",
    "\n",
    "# plot histogram of movie release\n",
    "sns.histplot(data=movies_df[movies_df['year'] > 1900 ], x='year', kde=True, bins=20)\n",
    "plt.title('Distribution of Movies by Release Year') \n",
    "plt.xlabel('Release year')  \n",
    "plt.ylabel('Number of Movies') \n",
    "\n",
    "plt.show()"
   ]
  },
  {
   "cell_type": "markdown",
   "id": "6611bf3d-7fac-4868-b0bb-1fc1b7a9b770",
   "metadata": {},
   "source": [
    "**Comments:**\n",
    "> The above histogram shows that the data is negatively skewed. There are a lot of movies released after 1995."
   ]
  },
  {
   "cell_type": "markdown",
   "id": "07dfa33e-7342-4074-bd5e-4f7012acf987",
   "metadata": {},
   "source": [
    "**Model:**"
   ]
  },
  {
   "cell_type": "code",
   "execution_count": 18,
   "id": "932ec9ec-350a-4be8-a02b-75db045e688e",
   "metadata": {},
   "outputs": [
    {
     "name": "stdout",
     "output_type": "stream",
     "text": [
      "(9708, 21)\n"
     ]
    },
    {
     "data": {
      "text/html": [
       "<div>\n",
       "<style scoped>\n",
       "    .dataframe tbody tr th:only-of-type {\n",
       "        vertical-align: middle;\n",
       "    }\n",
       "\n",
       "    .dataframe tbody tr th {\n",
       "        vertical-align: top;\n",
       "    }\n",
       "\n",
       "    .dataframe thead th {\n",
       "        text-align: right;\n",
       "    }\n",
       "</style>\n",
       "<table border=\"1\" class=\"dataframe\">\n",
       "  <thead>\n",
       "    <tr style=\"text-align: right;\">\n",
       "      <th></th>\n",
       "      <th>0</th>\n",
       "      <th>1</th>\n",
       "      <th>2</th>\n",
       "      <th>3</th>\n",
       "      <th>4</th>\n",
       "      <th>5</th>\n",
       "      <th>6</th>\n",
       "      <th>7</th>\n",
       "      <th>8</th>\n",
       "      <th>9</th>\n",
       "      <th>...</th>\n",
       "      <th>11</th>\n",
       "      <th>12</th>\n",
       "      <th>13</th>\n",
       "      <th>14</th>\n",
       "      <th>15</th>\n",
       "      <th>16</th>\n",
       "      <th>17</th>\n",
       "      <th>18</th>\n",
       "      <th>19</th>\n",
       "      <th>20</th>\n",
       "    </tr>\n",
       "  </thead>\n",
       "  <tbody>\n",
       "    <tr>\n",
       "      <th>0</th>\n",
       "      <td>0.0</td>\n",
       "      <td>0.416804</td>\n",
       "      <td>0.516288</td>\n",
       "      <td>0.504896</td>\n",
       "      <td>0.267388</td>\n",
       "      <td>0.0</td>\n",
       "      <td>0.0</td>\n",
       "      <td>0.000000</td>\n",
       "      <td>0.483017</td>\n",
       "      <td>0.0</td>\n",
       "      <td>...</td>\n",
       "      <td>0.0</td>\n",
       "      <td>0.0</td>\n",
       "      <td>0.0</td>\n",
       "      <td>0.0</td>\n",
       "      <td>0.0</td>\n",
       "      <td>0.000000</td>\n",
       "      <td>0.0</td>\n",
       "      <td>0.0</td>\n",
       "      <td>0.0</td>\n",
       "      <td>0.0</td>\n",
       "    </tr>\n",
       "    <tr>\n",
       "      <th>1</th>\n",
       "      <td>0.0</td>\n",
       "      <td>0.512293</td>\n",
       "      <td>0.000000</td>\n",
       "      <td>0.620567</td>\n",
       "      <td>0.000000</td>\n",
       "      <td>0.0</td>\n",
       "      <td>0.0</td>\n",
       "      <td>0.000000</td>\n",
       "      <td>0.593677</td>\n",
       "      <td>0.0</td>\n",
       "      <td>...</td>\n",
       "      <td>0.0</td>\n",
       "      <td>0.0</td>\n",
       "      <td>0.0</td>\n",
       "      <td>0.0</td>\n",
       "      <td>0.0</td>\n",
       "      <td>0.000000</td>\n",
       "      <td>0.0</td>\n",
       "      <td>0.0</td>\n",
       "      <td>0.0</td>\n",
       "      <td>0.0</td>\n",
       "    </tr>\n",
       "    <tr>\n",
       "      <th>2</th>\n",
       "      <td>0.0</td>\n",
       "      <td>0.000000</td>\n",
       "      <td>0.000000</td>\n",
       "      <td>0.000000</td>\n",
       "      <td>0.570705</td>\n",
       "      <td>0.0</td>\n",
       "      <td>0.0</td>\n",
       "      <td>0.000000</td>\n",
       "      <td>0.000000</td>\n",
       "      <td>0.0</td>\n",
       "      <td>...</td>\n",
       "      <td>0.0</td>\n",
       "      <td>0.0</td>\n",
       "      <td>0.0</td>\n",
       "      <td>0.0</td>\n",
       "      <td>0.0</td>\n",
       "      <td>0.821155</td>\n",
       "      <td>0.0</td>\n",
       "      <td>0.0</td>\n",
       "      <td>0.0</td>\n",
       "      <td>0.0</td>\n",
       "    </tr>\n",
       "    <tr>\n",
       "      <th>3</th>\n",
       "      <td>0.0</td>\n",
       "      <td>0.000000</td>\n",
       "      <td>0.000000</td>\n",
       "      <td>0.000000</td>\n",
       "      <td>0.504886</td>\n",
       "      <td>0.0</td>\n",
       "      <td>0.0</td>\n",
       "      <td>0.466216</td>\n",
       "      <td>0.000000</td>\n",
       "      <td>0.0</td>\n",
       "      <td>...</td>\n",
       "      <td>0.0</td>\n",
       "      <td>0.0</td>\n",
       "      <td>0.0</td>\n",
       "      <td>0.0</td>\n",
       "      <td>0.0</td>\n",
       "      <td>0.726452</td>\n",
       "      <td>0.0</td>\n",
       "      <td>0.0</td>\n",
       "      <td>0.0</td>\n",
       "      <td>0.0</td>\n",
       "    </tr>\n",
       "    <tr>\n",
       "      <th>4</th>\n",
       "      <td>0.0</td>\n",
       "      <td>0.000000</td>\n",
       "      <td>0.000000</td>\n",
       "      <td>0.000000</td>\n",
       "      <td>1.000000</td>\n",
       "      <td>0.0</td>\n",
       "      <td>0.0</td>\n",
       "      <td>0.000000</td>\n",
       "      <td>0.000000</td>\n",
       "      <td>0.0</td>\n",
       "      <td>...</td>\n",
       "      <td>0.0</td>\n",
       "      <td>0.0</td>\n",
       "      <td>0.0</td>\n",
       "      <td>0.0</td>\n",
       "      <td>0.0</td>\n",
       "      <td>0.000000</td>\n",
       "      <td>0.0</td>\n",
       "      <td>0.0</td>\n",
       "      <td>0.0</td>\n",
       "      <td>0.0</td>\n",
       "    </tr>\n",
       "  </tbody>\n",
       "</table>\n",
       "<p>5 rows × 21 columns</p>\n",
       "</div>"
      ],
      "text/plain": [
       "    0         1         2         3         4    5    6         7         8   \\\n",
       "0  0.0  0.416804  0.516288  0.504896  0.267388  0.0  0.0  0.000000  0.483017   \n",
       "1  0.0  0.512293  0.000000  0.620567  0.000000  0.0  0.0  0.000000  0.593677   \n",
       "2  0.0  0.000000  0.000000  0.000000  0.570705  0.0  0.0  0.000000  0.000000   \n",
       "3  0.0  0.000000  0.000000  0.000000  0.504886  0.0  0.0  0.466216  0.000000   \n",
       "4  0.0  0.000000  0.000000  0.000000  1.000000  0.0  0.0  0.000000  0.000000   \n",
       "\n",
       "    9   ...   11   12   13   14   15        16   17   18   19   20  \n",
       "0  0.0  ...  0.0  0.0  0.0  0.0  0.0  0.000000  0.0  0.0  0.0  0.0  \n",
       "1  0.0  ...  0.0  0.0  0.0  0.0  0.0  0.000000  0.0  0.0  0.0  0.0  \n",
       "2  0.0  ...  0.0  0.0  0.0  0.0  0.0  0.821155  0.0  0.0  0.0  0.0  \n",
       "3  0.0  ...  0.0  0.0  0.0  0.0  0.0  0.726452  0.0  0.0  0.0  0.0  \n",
       "4  0.0  ...  0.0  0.0  0.0  0.0  0.0  0.000000  0.0  0.0  0.0  0.0  \n",
       "\n",
       "[5 rows x 21 columns]"
      ]
     },
     "metadata": {},
     "output_type": "display_data"
    },
    {
     "name": "stdout",
     "output_type": "stream",
     "text": [
      "['action' 'adventure' 'animation' 'children' 'comedy' 'crime'\n",
      " 'documentary' 'drama' 'fantasy' 'fi' 'film' 'horror' 'imax' 'musical'\n",
      " 'mystery' 'noir' 'romance' 'sci' 'thriller' 'war' 'western']\n"
     ]
    }
   ],
   "source": [
    "# creating the instance of TfidfVectorizer\n",
    "tfidf_vectorizer  = TfidfVectorizer()\n",
    "\n",
    "# fit and transform the genre and it return document-term matrix\n",
    "tfidf_matrix = tfidf_vectorizer.fit_transform(movies_df[\"cleaned_genres\"])\n",
    "\n",
    "# print the shape\n",
    "print(tfidf_matrix.shape)\n",
    "\n",
    "# display few records of the matrix\n",
    "display(pd.DataFrame(tfidf_matrix.todense()).iloc[:5])\n",
    "\n",
    "# print the feature names\n",
    "print(tfidf_vectorizer.get_feature_names_out())"
   ]
  },
  {
   "cell_type": "markdown",
   "id": "0fe6557c-c9ee-4326-963d-7fdea700e279",
   "metadata": {},
   "source": [
    "**Comments:**\n",
    "> TfidfVectorizer transforms the text into a meaningful representation of integers or numbers. TF-IDF Vectorizer measures the originality of a word by comparing the number of times a word appears in the document with the number of documents the word occurs in."
   ]
  },
  {
   "cell_type": "code",
   "execution_count": 19,
   "id": "325cb863-c4ac-4304-ba98-4e7507b00cf8",
   "metadata": {},
   "outputs": [
    {
     "name": "stdout",
     "output_type": "stream",
     "text": [
      "(9708, 9708)\n"
     ]
    },
    {
     "data": {
      "text/plain": [
       "array([[1.        , 0.8136036 , 0.15259961, 0.13500041],\n",
       "       [0.8136036 , 1.        , 0.        , 0.        ],\n",
       "       [0.15259961, 0.        , 1.        , 0.88467078],\n",
       "       [0.13500041, 0.        , 0.88467078, 1.        ]])"
      ]
     },
     "execution_count": 19,
     "metadata": {},
     "output_type": "execute_result"
    }
   ],
   "source": [
    "# Compute similarity\n",
    "cosine_sim = linear_kernel(tfidf_matrix, tfidf_matrix)\n",
    "\n",
    "# print the shape\n",
    "print(cosine_sim.shape)\n",
    "\n",
    "# display few\n",
    "cosine_sim[:4,:4]"
   ]
  },
  {
   "cell_type": "markdown",
   "id": "2928d3f0-4433-4a16-89e8-cc5ad2494c6e",
   "metadata": {},
   "source": [
    "**Comments:**\n",
    "> Cosine similarity is a measure of similarity between two non-zero vectors. I used the cosine similarity to compare the similarity of two documents. "
   ]
  },
  {
   "cell_type": "code",
   "execution_count": 20,
   "id": "2bcfe4bd-0ea1-4698-bdcc-3b39aeceb28c",
   "metadata": {},
   "outputs": [
    {
     "name": "stdout",
     "output_type": "stream",
     "text": [
      "cleaned_title\n",
      "Toy Story                      0\n",
      "Jumanji                        1\n",
      "Grumpier Old Men               2\n",
      "Waiting to Exhale              3\n",
      "Father of the Bride Part II    4\n",
      "dtype: int64\n"
     ]
    }
   ],
   "source": [
    "# creating index of the movie\n",
    "title_indices = pd.Series(movies_df.index,\\\n",
    "                          index=movies_df[\"cleaned_title\"]).drop_duplicates()\n",
    "\n",
    "# print few \n",
    "print(title_indices.head())"
   ]
  },
  {
   "cell_type": "code",
   "execution_count": 21,
   "id": "b649711e-8bf7-4b73-8746-1263195c948a",
   "metadata": {},
   "outputs": [],
   "source": [
    "'''Creating the function to return movie recommendations. \n",
    "This function takes the movie title as an argument and returns\n",
    "the top 10 movie recommendations. This function\n",
    "uses a cosine similarity score to provide the recommendations.'''\n",
    "\n",
    "def get_top_ten_movie_recommendations_based_on_genre(title):\n",
    "# get the index of the title    \n",
    "    idx = title_indices[title]\n",
    "# get  similarty score, sort the score in descending order and get top 10 scores\n",
    "    top_ten_sim_scores = sorted(list(enumerate(cosine_sim[idx])),\\\n",
    "                                key=lambda x: x[1], reverse=True)[0:11]\n",
    "# get the indices of top 10 movies\n",
    "    movie_indices = [i[0] for i in top_ten_sim_scores if i[0] != idx]\n",
    "# return top 10 recommended movies\n",
    "    for movie in movies_df[\"cleaned_title\"].iloc[movie_indices].values:\n",
    "        print(movie)\n",
    "        "
   ]
  },
  {
   "cell_type": "code",
   "execution_count": 22,
   "id": "596a1f10-7f18-4c8f-92ae-91bfe3b5a22a",
   "metadata": {},
   "outputs": [
    {
     "name": "stdout",
     "output_type": "stream",
     "text": [
      "Toy Story\n",
      "Antz\n",
      "Toy Story 2\n",
      "Adventures of Rocky and Bullwinkle, The\n",
      "Emperor's New Groove, The\n",
      "Monsters, Inc.\n",
      "Wild, The\n",
      "Shrek the Third\n",
      "Tale of Despereaux, The\n",
      "Asterix and the Vikings\n"
     ]
    }
   ],
   "source": [
    "# Getting top 10 recommendations for the movie Turbo\n",
    "get_top_ten_movie_recommendations_based_on_genre('Turbo')"
   ]
  },
  {
   "cell_type": "markdown",
   "id": "a393ca3a-76f6-4abc-8dc2-acc498d3a899",
   "metadata": {},
   "source": [
    "**Reference:**\n",
    "> https://www.analyticsvidhya.com/blog/2015/08/beginners-guide-learn-content-based-recommender-systems/"
   ]
  }
 ],
 "metadata": {
  "kernelspec": {
   "display_name": "Python 3 (ipykernel)",
   "language": "python",
   "name": "python3"
  },
  "language_info": {
   "codemirror_mode": {
    "name": "ipython",
    "version": 3
   },
   "file_extension": ".py",
   "mimetype": "text/x-python",
   "name": "python",
   "nbconvert_exporter": "python",
   "pygments_lexer": "ipython3",
   "version": "3.8.2"
  }
 },
 "nbformat": 4,
 "nbformat_minor": 5
}
